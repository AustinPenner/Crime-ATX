{
 "cells": [
  {
   "cell_type": "code",
   "execution_count": 45,
   "metadata": {},
   "outputs": [],
   "source": [
    "from pymongo import MongoClient\n",
    "import pprint\n",
    "import matplotlib.pyplot as plt\n",
    "\n",
    "# import json\n",
    "# import numpy as np\n",
    "\n",
    "plt.style.use('ggplot')\n",
    "%matplotlib inline"
   ]
  },
  {
   "cell_type": "code",
   "execution_count": 46,
   "metadata": {},
   "outputs": [],
   "source": [
    "client = MongoClient()"
   ]
  },
  {
   "cell_type": "code",
   "execution_count": 47,
   "metadata": {},
   "outputs": [],
   "source": [
    "db = client['bars_and_crime']\n",
    "crime = db['crime']\n",
    "bars = db['bars']\n",
    "bar_data = db['bar_data']"
   ]
  },
  {
   "cell_type": "code",
   "execution_count": 69,
   "metadata": {},
   "outputs": [
    {
     "data": {
      "text/plain": [
       "{'_id': ObjectId('5e160f4b8555fe9b6b13e086'),\n",
       " 'id': 'f5P9ufNH5mJz9BWj-sl8pw',\n",
       " 'alias': 'the-beer-plant-austin',\n",
       " 'name': 'The Beer Plant',\n",
       " 'image_url': 'https://s3-media1.fl.yelpcdn.com/bphoto/LJVFPvjFq_XgwumfSIl93Q/o.jpg',\n",
       " 'is_closed': False,\n",
       " 'url': 'https://www.yelp.com/biz/the-beer-plant-austin?adjust_creative=0tMDijLbkodplsyFCw9huQ&utm_campaign=yelp_api_v3&utm_medium=api_v3_business_search&utm_source=0tMDijLbkodplsyFCw9huQ',\n",
       " 'review_count': 415,\n",
       " 'categories': [{'alias': 'vegan', 'title': 'Vegan'},\n",
       "  {'alias': 'beerbar', 'title': 'Beer Bar'},\n",
       "  {'alias': 'gastropubs', 'title': 'Gastropubs'}],\n",
       " 'rating': 4.0,\n",
       " 'coordinates': {'latitude': 30.2966658, 'longitude': -97.7676046},\n",
       " 'transactions': ['delivery'],\n",
       " 'price': '$$',\n",
       " 'location': {'address1': '3110 Windsor Rd',\n",
       "  'address2': '',\n",
       "  'address3': None,\n",
       "  'city': 'Austin',\n",
       "  'zip_code': '78703',\n",
       "  'country': 'US',\n",
       "  'state': 'TX',\n",
       "  'display_address': ['3110 Windsor Rd', 'Austin, TX 78703']},\n",
       " 'phone': '+15125241800',\n",
       " 'display_phone': '(512) 524-1800',\n",
       " 'distance': 1038.9477911810934}"
      ]
     },
     "execution_count": 69,
     "metadata": {},
     "output_type": "execute_result"
    }
   ],
   "source": [
    "db.bars.find_one()"
   ]
  },
  {
   "cell_type": "code",
   "execution_count": 77,
   "metadata": {},
   "outputs": [
    {
     "name": "stdout",
     "output_type": "stream",
     "text": [
      "<class 'pymongo.command_cursor.CommandCursor'>\n"
     ]
    }
   ],
   "source": [
    "# db.bars.count_documents({})\n",
    "\n",
    "# len(bars.distinct('coordinates'))\n",
    "# bars.distinct('id')\n",
    "\n",
    "# bars.distinct('alias')\n",
    "# 797 bars in ATX\n",
    "\n",
    "\n",
    "result = bars.aggregate( \n",
    "                [{\"$group\": \n",
    "                      { \"_id\": {\"id\": \"$id\", \"alias\": \"$alias\", \"name\": \"$name\",\n",
    "                                \"review_count\": \"$review_count\", \"rating\": \"$rating\",\n",
    "                                \"coordinates\": \"$coordinates\", \"price\": \"$price\",\n",
    "                                \"location\": \"$location\"}}}]\n",
    "        )\n",
    "print(type(result))\n",
    "# for item in result:\n",
    "#     pprint.pprint(item)\n",
    "\n",
    "\n",
    "# for item in bars:\n",
    "#     bar_data.insert(item)"
   ]
  },
  {
   "cell_type": "code",
   "execution_count": 25,
   "metadata": {},
   "outputs": [
    {
     "name": "stdout",
     "output_type": "stream",
     "text": [
      "{'_id': ObjectId('5e14eacb12b49b6f35cd1dcd'),\n",
      " 'address': '2201 MONTOPLOIS DR',\n",
      " 'apd_district': '',\n",
      " 'apd_sector': '',\n",
      " 'category_description': '',\n",
      " 'census_tract': '',\n",
      " 'clearance_date': '10/31/2018',\n",
      " 'clearance_status': 'N',\n",
      " 'district': '',\n",
      " 'fam_violence': 'N',\n",
      " 'high_offense_code': 2400,\n",
      " 'high_offense_description': 'DATING DISTURBANCE',\n",
      " 'incident_no': 20183000009,\n",
      " 'lat': '',\n",
      " 'lng': '',\n",
      " 'location': '',\n",
      " 'location_type': 'PARKING LOTS / GARAGE',\n",
      " 'occurred_date': '10/27/2018',\n",
      " 'occurred_date_time': '10/27/2018 12:03:00 AM',\n",
      " 'occurred_time': 3,\n",
      " 'pra': '',\n",
      " 'report_date': '10/27/2018',\n",
      " 'report_date_time': '10/27/2018 12:28:00 AM',\n",
      " 'report_time': 28,\n",
      " 'ucr_category': '',\n",
      " 'x_coord': '',\n",
      " 'y_coord': '',\n",
      " 'zip': ''}\n"
     ]
    },
    {
     "name": "stderr",
     "output_type": "stream",
     "text": [
      "/home/ubuntu/anaconda3/lib/python3.7/site-packages/ipykernel_launcher.py:4: DeprecationWarning: count is deprecated. Use estimated_document_count or count_documents instead. Please note that $where must be replaced by $expr, $near must be replaced by $geoWithin with $center, and $nearSphere must be replaced by $geoWithin with $centerSphere\n",
      "  after removing the cwd from sys.path.\n"
     ]
    }
   ],
   "source": [
    "item = crime.find_one({})\n",
    "pprint.pprint(item)\n",
    "\n",
    "row_count = crime.count()"
   ]
  },
  {
   "cell_type": "code",
   "execution_count": null,
   "metadata": {},
   "outputs": [],
   "source": []
  }
 ],
 "metadata": {
  "kernelspec": {
   "display_name": "Python 3",
   "language": "python",
   "name": "python3"
  },
  "language_info": {
   "codemirror_mode": {
    "name": "ipython",
    "version": 3
   },
   "file_extension": ".py",
   "mimetype": "text/x-python",
   "name": "python",
   "nbconvert_exporter": "python",
   "pygments_lexer": "ipython3",
   "version": "3.7.4"
  }
 },
 "nbformat": 4,
 "nbformat_minor": 2
}
